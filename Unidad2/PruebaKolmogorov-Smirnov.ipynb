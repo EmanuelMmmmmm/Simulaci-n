{
 "cells": [
  {
   "cell_type": "markdown",
   "id": "dea8c404-14f9-4657-9ef8-e9d3c4e14281",
   "metadata": {},
   "source": [
    "# Simulación \n",
    "## Unidad 2 \n",
    "### Práctica. Realizar un programa en Python que realice 100 números aleatorios y realice la prueba de uniformidad de Kolmogorov-Smirnov\n",
    "\n",
    "Docente: José Gabriel Rodríguez Rivas\n",
    "\n",
    "Alumno: Emanuel Magallanes Contreras"
   ]
  },
  {
   "cell_type": "code",
   "execution_count": 4,
   "id": "f3d2892f-4357-44c3-92b9-fe3773774e54",
   "metadata": {},
   "outputs": [
    {
     "name": "stdout",
     "output_type": "stream",
     "text": [
      "Números aleatorios generados:\n",
      "[0.61546074 0.95675388 0.92111476 0.93773952 0.71462269 0.54667275\n",
      " 0.78440316 0.39354918 0.38161728 0.46034757 0.70931481 0.46623267\n",
      " 0.30497317 0.06530268 0.37225791 0.30976736 0.3322302  0.70863253\n",
      " 0.95720251 0.54904979 0.13892803 0.75729895 0.16088975 0.38529062\n",
      " 0.63377762 0.40999967 0.04117229 0.24960661 0.26251773 0.83244558\n",
      " 0.1476877  0.49189371 0.08516405 0.16665587 0.36950651 0.90192902\n",
      " 0.77142002 0.2830408  0.20876355 0.7294328  0.66480159 0.66250771\n",
      " 0.0839577  0.09255745 0.32632725 0.38478542 0.70904643 0.93137734\n",
      " 0.56417327 0.71557901 0.89990113 0.64666517 0.39572223 0.44435421\n",
      " 0.91592307 0.74558636 0.3537966  0.64708273 0.23281909 0.83256692\n",
      " 0.75020628 0.1427896  0.49110924 0.53887192 0.70340205 0.84609867\n",
      " 0.10881137 0.64381719 0.96133139 0.38452882 0.75302082 0.86016613\n",
      " 0.28937846 0.64117322 0.49634243 0.33323421 0.63145238 0.42798286\n",
      " 0.48585202 0.92785348 0.3911248  0.88384307 0.32121064 0.612974\n",
      " 0.80882468 0.32406355 0.88245186 0.08456164 0.84256997 0.18112622\n",
      " 0.1643419  0.09831523 0.18007901 0.2530408  0.70229418 0.50444935\n",
      " 0.75309577 0.22335197 0.25398115 0.91942847]\n",
      "\n",
      "Estadístico de Kolmogorov-Smirnov: 0.0639577045589791\n",
      "Valor p: 0.7837140935402693\n",
      "\n",
      "No podemos rechazar la hipótesis nula: la distribución parece uniforme\n"
     ]
    }
   ],
   "source": [
    "import numpy as np\n",
    "import scipy.stats as stats\n",
    "\n",
    "# 1. Generar 100 números aleatorios en el rango [0,1]\n",
    "n = 100\n",
    "random_numbers = np.random.uniform(0, 1, n)\n",
    "\n",
    "# Mostrar los números aleatorios generados\n",
    "print(\"Números aleatorios generados:\")\n",
    "print(random_numbers)\n",
    "\n",
    "# 2. Prueba de Kolmogorov-Smirnov\n",
    "ks_statistic, p_value = stats.kstest(random_numbers, 'uniform', args=(0, 1))\n",
    "\n",
    "# 3. Mostrar resultados\n",
    "print(\"\\nEstadístico de Kolmogorov-Smirnov:\", ks_statistic)\n",
    "print(\"Valor p:\", p_value)\n",
    "\n",
    "# 4. Interpretación del resultado\n",
    "if p_value < 0.05:\n",
    "    print(\"\\nRechazamos la hipótesis nula: la distribución no es uniforme\")\n",
    "else:\n",
    "    print(\"\\nNo podemos rechazar la hipótesis nula: la distribución parece uniforme\")"
   ]
  }
 ],
 "metadata": {
  "kernelspec": {
   "display_name": "Python 3 (ipykernel)",
   "language": "python",
   "name": "python3"
  },
  "language_info": {
   "codemirror_mode": {
    "name": "ipython",
    "version": 3
   },
   "file_extension": ".py",
   "mimetype": "text/x-python",
   "name": "python",
   "nbconvert_exporter": "python",
   "pygments_lexer": "ipython3",
   "version": "3.12.2"
  }
 },
 "nbformat": 4,
 "nbformat_minor": 5
}
